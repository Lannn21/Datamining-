{
  "cells": [
    {
      "cell_type": "markdown",
      "id": "4cbd36d5",
      "metadata": {
        "id": "4cbd36d5"
      },
      "source": [
        "Faktorial Recursive"
      ]
    },
    {
      "cell_type": "code",
      "execution_count": null,
      "id": "9ac0e269",
      "metadata": {
        "colab": {
          "base_uri": "https://localhost:8080/"
        },
        "id": "9ac0e269",
        "outputId": "b188587f-ef76-4ca7-c504-7650d87989bc"
      },
      "outputs": [
        {
          "output_type": "stream",
          "name": "stdout",
          "text": [
            "Masukkan angka: 8\n",
            "Faktorial dari 8 adalah 40320\n"
          ]
        }
      ],
      "source": [
        "def faktorial(n):\n",
        "    if n == 0 or n == 1:\n",
        "        return 1\n",
        "    else:\n",
        "        return n * faktorial(n - 1)\n",
        "\n",
        "angka = int(input(\"Masukkan angka: \"))\n",
        "\n",
        "hasil = faktorial(angka)\n",
        "\n",
        "print(f\"Faktorial dari {angka} adalah {hasil}\")\n"
      ]
    },
    {
      "cell_type": "markdown",
      "id": "a6236a27",
      "metadata": {
        "id": "a6236a27"
      },
      "source": [
        "Fibonacci"
      ]
    },
    {
      "cell_type": "code",
      "execution_count": null,
      "id": "0b414214",
      "metadata": {
        "colab": {
          "base_uri": "https://localhost:8080/"
        },
        "id": "0b414214",
        "outputId": "bab3aefc-b84c-466a-db9c-a75d333bef22"
      },
      "outputs": [
        {
          "output_type": "stream",
          "name": "stdout",
          "text": [
            "Masukkan angka: 6\n",
            "Fibonacci ke-6 adalah 8\n"
          ]
        }
      ],
      "source": [
        "def fibonacci(n):\n",
        "    if n <= 1:\n",
        "        return n\n",
        "    else:\n",
        "        return fibonacci(n - 1) + fibonacci(n - 2)\n",
        "\n",
        "angka = int(input(\"Masukkan angka: \"))\n",
        "\n",
        "hasil = fibonacci(angka)\n",
        "\n",
        "print(f\"Fibonacci ke-{angka} adalah {hasil}\")\n"
      ]
    },
    {
      "cell_type": "markdown",
      "id": "9c320c2c",
      "metadata": {
        "id": "9c320c2c"
      },
      "source": [
        "Eksponensial Recursive"
      ]
    },
    {
      "cell_type": "code",
      "execution_count": null,
      "id": "4b7668fe",
      "metadata": {
        "colab": {
          "base_uri": "https://localhost:8080/"
        },
        "id": "4b7668fe",
        "outputId": "0bd11815-89bf-4c82-b13e-4a8a1b300fbb"
      },
      "outputs": [
        {
          "output_type": "stream",
          "name": "stdout",
          "text": [
            "Masukkan bilangan dasar: 2\n",
            "Masukkan pangkat: 3\n",
            "2 pangkat 3 adalah 8\n"
          ]
        }
      ],
      "source": [
        "def pangkat(base, exp):\n",
        "    if exp == 0:\n",
        "        return 1\n",
        "    else:\n",
        "        return base * pangkat(base, exp - 1)\n",
        "\n",
        "base = int(input(\"Masukkan bilangan dasar: \"))\n",
        "exp = int(input(\"Masukkan pangkat: \"))\n",
        "hasil = pangkat(base, exp)\n",
        "print(f\"{base} pangkat {exp} adalah {hasil}\")\n"
      ]
    },
    {
      "cell_type": "markdown",
      "id": "45eb923a",
      "metadata": {
        "id": "45eb923a"
      },
      "source": [
        "Menghitung Jumlah Digit Recursive"
      ]
    },
    {
      "cell_type": "code",
      "execution_count": null,
      "id": "b518d6ab",
      "metadata": {
        "colab": {
          "base_uri": "https://localhost:8080/"
        },
        "id": "b518d6ab",
        "outputId": "8bf5f12f-d71c-4882-b089-9924180caf77"
      },
      "outputs": [
        {
          "output_type": "stream",
          "name": "stdout",
          "text": [
            "Masukkan angka: 12345678\n",
            "Jumlah digit dari 12345678 adalah 8\n"
          ]
        }
      ],
      "source": [
        "def jumlah_digit(n):\n",
        "    if n == 0:\n",
        "        return 0\n",
        "    else:\n",
        "        return 1 + jumlah_digit(n // 10)\n",
        "\n",
        "angka = int(input(\"Masukkan angka: \"))\n",
        "hasil = jumlah_digit(angka)\n",
        "print(f\"Jumlah digit dari {angka} adalah {hasil}\")\n"
      ]
    },
    {
      "cell_type": "markdown",
      "id": "a1b34564",
      "metadata": {
        "id": "a1b34564"
      },
      "source": [
        "Penjumlahan Elemen Recursive"
      ]
    },
    {
      "cell_type": "code",
      "execution_count": null,
      "id": "dd77057b",
      "metadata": {
        "colab": {
          "base_uri": "https://localhost:8080/"
        },
        "id": "dd77057b",
        "outputId": "23effbab-7cb1-4e51-db69-d6c42fc337dc"
      },
      "outputs": [
        {
          "output_type": "stream",
          "name": "stdout",
          "text": [
            "Masukkan jumlah elemen dalam list: 2\n",
            "Masukkan elemen ke-1: 4\n",
            "Masukkan elemen ke-2: 6\n",
            "Jumlah semua elemen dalam list adalah 10\n"
          ]
        }
      ],
      "source": [
        "def jumlah_list(lst):\n",
        "    if len(lst) == 0:\n",
        "        return 0\n",
        "    else:\n",
        "        return lst[0] + jumlah_list(lst[1:])\n",
        "\n",
        "lst = []\n",
        "jumlah_elemen = int(input(\"Masukkan jumlah elemen dalam list: \"))\n",
        "\n",
        "for i in range(jumlah_elemen):\n",
        "    angka = int(input(f\"Masukkan elemen ke-{i+1}: \"))\n",
        "    lst.append(angka)\n",
        "hasil = jumlah_list(lst)\n",
        "print(f\"Jumlah semua elemen dalam list adalah {hasil}\")\n"
      ]
    },
    {
      "cell_type": "markdown",
      "source": [
        "Gini"
      ],
      "metadata": {
        "id": "LPTE5FkvuSL0"
      },
      "id": "LPTE5FkvuSL0"
    },
    {
      "cell_type": "code",
      "source": [
        "def gini(n,y):\n",
        "  return 1-(n/(n+y))*2-(y/(n+y))*2\n",
        "\n",
        "n = int(input(\"masukan angka: \"))\n",
        "y = int(input(\"masukan angka: \"))\n",
        "h=gini(n,y)\n",
        "print(h)"
      ],
      "metadata": {
        "id": "pMrO1jferIAI"
      },
      "id": "pMrO1jferIAI",
      "execution_count": null,
      "outputs": []
    },
    {
      "cell_type": "markdown",
      "source": [
        "Entropy"
      ],
      "metadata": {
        "id": "fGNOK605ufXV"
      },
      "id": "fGNOK605ufXV"
    },
    {
      "cell_type": "code",
      "source": [
        "import math\n",
        "def entropy(n, y):\n",
        "  return -((n/(n+y))*math.log2(n/(n+y))+(y/(n+y))*math.log2(y/(n+y)))\n",
        "\n",
        "n = int(input(\"masukan angka: \"))\n",
        "y = int(input(\"masukan angka: \"))\n",
        "h=entropy(n,y)\n",
        "print(h)"
      ],
      "metadata": {
        "id": "QUxQkuL2uWhW"
      },
      "id": "QUxQkuL2uWhW",
      "execution_count": null,
      "outputs": []
    },
    {
      "cell_type": "markdown",
      "source": [
        "Class Eror"
      ],
      "metadata": {
        "id": "7zsgalejugrt"
      },
      "id": "7zsgalejugrt"
    },
    {
      "cell_type": "code",
      "source": [
        "def claserror(n, y):\n",
        "  if n >= y:\n",
        "    return 1-(n/(n+y))\n",
        "  else:\n",
        "    return 1-(y/(n+y))\n",
        "\n",
        "\n",
        "n = int(input(\"masukan angka: \"))\n",
        "y = int(input(\"masukan angka: \"))\n",
        "h=claserror(n,y)\n",
        "print(h)"
      ],
      "metadata": {
        "id": "J2AcNjOhubKN"
      },
      "id": "J2AcNjOhubKN",
      "execution_count": null,
      "outputs": []
    }
  ],
  "metadata": {
    "kernelspec": {
      "display_name": "Python 3 (ipykernel)",
      "language": "python",
      "name": "python3"
    },
    "language_info": {
      "codemirror_mode": {
        "name": "ipython",
        "version": 3
      },
      "file_extension": ".py",
      "mimetype": "text/x-python",
      "name": "python",
      "nbconvert_exporter": "python",
      "pygments_lexer": "ipython3",
      "version": "3.11.4"
    },
    "colab": {
      "provenance": []
    }
  },
  "nbformat": 4,
  "nbformat_minor": 5
}